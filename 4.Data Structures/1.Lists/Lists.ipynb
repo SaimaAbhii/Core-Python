{
 "cells": [
  {
   "cell_type": "markdown",
   "id": "85d95b24",
   "metadata": {},
   "source": [
    "# Lists in Python"
   ]
  },
  {
   "cell_type": "markdown",
   "id": "b6e57447",
   "metadata": {},
   "source": [
    "Lists are one of the most versatile and commonly used data structures in Python. They are ordered collections of items, and they can contain elements of different types. Lists are mutable, meaning you can modify their elements after creation. They are created by enclosing comma-separated values within square brackets [ ]."
   ]
  },
  {
   "cell_type": "markdown",
   "id": "88acf493",
   "metadata": {},
   "source": [
    "### Lists are mutable"
   ]
  },
  {
   "cell_type": "code",
   "execution_count": 2,
   "id": "8738e6de",
   "metadata": {},
   "outputs": [
    {
     "data": {
      "text/plain": [
       "[1, 2, 3, 4, 5]"
      ]
     },
     "execution_count": 2,
     "metadata": {},
     "output_type": "execute_result"
    }
   ],
   "source": [
    "# Creating a List\n",
    "\n",
    "my_list = [1, 2, 3, 4, 5]\n",
    "my_list"
   ]
  },
  {
   "cell_type": "code",
   "execution_count": 3,
   "id": "1fa6928a",
   "metadata": {},
   "outputs": [
    {
     "name": "stdout",
     "output_type": "stream",
     "text": [
      "1\n"
     ]
    },
    {
     "data": {
      "text/plain": [
       "4"
      ]
     },
     "execution_count": 3,
     "metadata": {},
     "output_type": "execute_result"
    }
   ],
   "source": [
    "print(my_list[0])\n",
    "my_list[3]"
   ]
  },
  {
   "cell_type": "code",
   "execution_count": 4,
   "id": "91b76b4c",
   "metadata": {},
   "outputs": [
    {
     "data": {
      "text/plain": [
       "[1, 2, 3, 4, 5, 10]"
      ]
     },
     "execution_count": 4,
     "metadata": {},
     "output_type": "execute_result"
    }
   ],
   "source": [
    "# Appending Elements: to the end\n",
    "\n",
    "my_list.append(10)\n",
    "my_list"
   ]
  },
  {
   "cell_type": "code",
   "execution_count": 5,
   "id": "626976a5",
   "metadata": {},
   "outputs": [
    {
     "data": {
      "text/plain": [
       "[0, 2, 3, 4, 5, 10]"
      ]
     },
     "execution_count": 5,
     "metadata": {},
     "output_type": "execute_result"
    }
   ],
   "source": [
    "# Modifying Elements\n",
    "\n",
    "my_list[0]=0\n",
    "my_list"
   ]
  },
  {
   "cell_type": "code",
   "execution_count": 17,
   "id": "1a6321ff",
   "metadata": {},
   "outputs": [
    {
     "name": "stdout",
     "output_type": "stream",
     "text": [
      "[1, 2, 10, 3, 4, 5]\n"
     ]
    }
   ],
   "source": [
    "# Inserting into Lists\n",
    "# my_list.insert(index, element)\n",
    "\n",
    "my_list = [1, 2, 3, 4, 5]\n",
    "\n",
    "# Inserting 10 at index 2\n",
    "my_list.insert(2, 10) \n",
    "print(my_list) #Output: [1, 2, 10, 3, 4, 5]"
   ]
  },
  {
   "cell_type": "markdown",
   "id": "e1368a06",
   "metadata": {},
   "source": [
    "Slicing in Lists"
   ]
  },
  {
   "cell_type": "code",
   "execution_count": 18,
   "id": "60d79897",
   "metadata": {},
   "outputs": [
    {
     "name": "stdout",
     "output_type": "stream",
     "text": [
      "[3, 4, 5]\n"
     ]
    }
   ],
   "source": [
    "# sublist = my_list[start_index:end_index:step]\n",
    "my_list = [1, 2, 3, 4, 5, 6, 7, 8, 9, 10]\n",
    "\n",
    "sublist1 = my_list[2:5]  # Output: [3, 4, 5]\n",
    "print(sublist1)"
   ]
  },
  {
   "cell_type": "code",
   "execution_count": 21,
   "id": "fb71953f",
   "metadata": {},
   "outputs": [
    {
     "name": "stdout",
     "output_type": "stream",
     "text": [
      "[100, 4, 5]\n"
     ]
    },
    {
     "data": {
      "text/plain": [
       "[1, 2, 3, 4, 5, 6, 7, 8, 9, 10]"
      ]
     },
     "execution_count": 21,
     "metadata": {},
     "output_type": "execute_result"
    }
   ],
   "source": [
    "sublist1[0]=100\n",
    "print(sublist1)\n",
    "my_list #changes made in a sliced list do not reflect in the original list and vice versa"
   ]
  },
  {
   "cell_type": "code",
   "execution_count": 22,
   "id": "1cb5f2ba",
   "metadata": {},
   "outputs": [
    {
     "data": {
      "text/plain": [
       "[100, 4, 5]"
      ]
     },
     "execution_count": 22,
     "metadata": {},
     "output_type": "execute_result"
    }
   ],
   "source": [
    "my_list[2]=200\n",
    "sublist1 # no changes"
   ]
  },
  {
   "cell_type": "markdown",
   "id": "0abeca45",
   "metadata": {},
   "source": [
    "Searching in Lists"
   ]
  },
  {
   "cell_type": "markdown",
   "id": "b5b0fe86",
   "metadata": {},
   "source": [
    "can check if an element exists in a list using the in keyword or by iterating through the list."
   ]
  },
  {
   "cell_type": "code",
   "execution_count": 27,
   "id": "9d56ac0e",
   "metadata": {},
   "outputs": [
    {
     "name": "stdout",
     "output_type": "stream",
     "text": [
      "3 exists in the list\n"
     ]
    }
   ],
   "source": [
    "my_list = [1, 2, 3, 4, 5]\n",
    "\n",
    "# Using 'in' keyword to check if 3 exists in the list\n",
    "if 3 in my_list:\n",
    "    print(\"3 exists in the list\")\n",
    "\n",
    "# Iterating through the list to check if 6 exists\n",
    "for element in my_list:\n",
    "    if element == 6:\n",
    "        print(\"6 exists in the list\")"
   ]
  },
  {
   "cell_type": "markdown",
   "id": "3c0399d6",
   "metadata": {},
   "source": [
    "Length and Count in Lists"
   ]
  },
  {
   "cell_type": "code",
   "execution_count": 31,
   "id": "3125f930",
   "metadata": {},
   "outputs": [
    {
     "name": "stdout",
     "output_type": "stream",
     "text": [
      "7\n"
     ]
    }
   ],
   "source": [
    "my_list = [1, 2, 3, 4, 5, 2, 2]\n",
    "\n",
    "# Length of the list\n",
    "length = len(my_list)  # Output: 7\n",
    "print(length)"
   ]
  },
  {
   "cell_type": "code",
   "execution_count": 32,
   "id": "3502338a",
   "metadata": {},
   "outputs": [
    {
     "name": "stdout",
     "output_type": "stream",
     "text": [
      "3\n"
     ]
    }
   ],
   "source": [
    "# Counting occurrences of value 2\n",
    "count_of_2 = my_list.count(2)\n",
    "print(count_of_2)# Output: 3"
   ]
  },
  {
   "cell_type": "markdown",
   "id": "b488ae71",
   "metadata": {},
   "source": [
    "## Advanced Operations"
   ]
  },
  {
   "cell_type": "markdown",
   "id": "c146f765",
   "metadata": {},
   "source": [
    "List Comprehensions:"
   ]
  },
  {
   "cell_type": "code",
   "execution_count": 83,
   "id": "61bd6b87",
   "metadata": {},
   "outputs": [
    {
     "name": "stdout",
     "output_type": "stream",
     "text": [
      "[0, 1, 4, 9, 16, 25, 36, 49, 64, 81]\n"
     ]
    }
   ],
   "source": [
    "squares = [x**2 for x in range(10)]\n",
    "print(squares)  # Output: [0, 1, 4, 9, 16, 25, 36, 49, 64, 81]"
   ]
  },
  {
   "cell_type": "markdown",
   "id": "0f43f36e",
   "metadata": {},
   "source": [
    "Sorting Lists:"
   ]
  },
  {
   "cell_type": "code",
   "execution_count": 84,
   "id": "34819bcd",
   "metadata": {},
   "outputs": [
    {
     "name": "stdout",
     "output_type": "stream",
     "text": [
      "[1, 1, 2, 3, 4, 5, 5, 6, 9]\n"
     ]
    }
   ],
   "source": [
    "numbers = [3, 1, 4, 1, 5, 9, 2, 6, 5]\n",
    "numbers.sort()  # Sorts the list in place\n",
    "print(numbers)  # Output: [1, 1, 2, 3, 4, 5, 5, 6, 9]"
   ]
  },
  {
   "cell_type": "markdown",
   "id": "6b2df3c2",
   "metadata": {},
   "source": [
    "### Reversing Lists"
   ]
  },
  {
   "cell_type": "code",
   "execution_count": 85,
   "id": "fd8f3b71",
   "metadata": {},
   "outputs": [
    {
     "name": "stdout",
     "output_type": "stream",
     "text": [
      "[1, 1, 2, 3, 4, 5, 5, 6, 9]\n",
      "[9, 6, 5, 5, 4, 3, 2, 1, 1]\n"
     ]
    }
   ],
   "source": [
    "print(numbers)\n",
    "numbers.reverse()\n",
    "print(numbers)  # Output: [9, 6, 5, 5, 4, 3, 2, 1, 1]"
   ]
  },
  {
   "cell_type": "code",
   "execution_count": 86,
   "id": "b6407217",
   "metadata": {},
   "outputs": [
    {
     "name": "stdout",
     "output_type": "stream",
     "text": [
      "[4, 2, 3, 8, 4, 7]\n"
     ]
    }
   ],
   "source": [
    "digits=[7,4,8,3,2,4]\n",
    "print(digits[::-1])"
   ]
  },
  {
   "cell_type": "markdown",
   "id": "79a2b815",
   "metadata": {},
   "source": [
    "Copying Lists:"
   ]
  },
  {
   "cell_type": "code",
   "execution_count": 103,
   "id": "27973023",
   "metadata": {},
   "outputs": [
    {
     "name": "stdout",
     "output_type": "stream",
     "text": [
      "[1, 2, 3]\n"
     ]
    },
    {
     "data": {
      "text/plain": [
       "[1, 100, 3]"
      ]
     },
     "execution_count": 103,
     "metadata": {},
     "output_type": "execute_result"
    }
   ],
   "source": [
    "original = [1, 2, 3]\n",
    "copy= original.copy()  # or original[:]\n",
    "copy[1]=100\n",
    "print(original)\n",
    "copy"
   ]
  },
  {
   "cell_type": "markdown",
   "id": "c8beb7f5",
   "metadata": {},
   "source": [
    "## Shallow copy \n",
    "creates a new object and inserts references to the original objects into it. Changes made to the original object's nested elements reflect in the shallow copy and vice versa."
   ]
  },
  {
   "cell_type": "code",
   "execution_count": 109,
   "id": "d66860c2",
   "metadata": {},
   "outputs": [
    {
     "name": "stdout",
     "output_type": "stream",
     "text": [
      "[[100, 2, 3], [4, 5, 6]]\n"
     ]
    }
   ],
   "source": [
    "import copy\n",
    "\n",
    "original_list = [[1, 2, 3], [4, 5, 6]]\n",
    "shallow_copy = copy.copy(original_list)\n",
    "\n",
    "shallow_copy[0][0] = 100  # Modifying the nested element\n",
    "print(original_list)  # Output: [[100, 2, 3], [4, 5, 6]]"
   ]
  },
  {
   "cell_type": "code",
   "execution_count": 110,
   "id": "7443284e",
   "metadata": {},
   "outputs": [
    {
     "name": "stdout",
     "output_type": "stream",
     "text": [
      "[[100, 2, 3], [200, 5, 6]]\n"
     ]
    }
   ],
   "source": [
    "original_list[1][0]=200\n",
    "print(shallow_copy)"
   ]
  },
  {
   "cell_type": "markdown",
   "id": "28bbfe5a",
   "metadata": {},
   "source": [
    "## Deep copy \n",
    "creates a new object and recursively inserts copies of the original objects into it. Changes made to the original object's nested elements do not affect the deep copy, and vice versa."
   ]
  },
  {
   "cell_type": "code",
   "execution_count": 111,
   "id": "a9de8465",
   "metadata": {},
   "outputs": [
    {
     "name": "stdout",
     "output_type": "stream",
     "text": [
      "[[1, 2, 3], [4, 5, 6]]\n"
     ]
    }
   ],
   "source": [
    "import copy\n",
    "\n",
    "original_list = [[1, 2, 3], [4, 5, 6]]\n",
    "deep_copy = copy.deepcopy(original_list)\n",
    "\n",
    "deep_copy[0][0] = 100  # Modifying the nested element\n",
    "print(original_list)  # Output: [[1, 2, 3], [4, 5, 6]]"
   ]
  },
  {
   "cell_type": "markdown",
   "id": "8f46d13a",
   "metadata": {},
   "source": [
    "## Deleting Elements from a List"
   ]
  },
  {
   "cell_type": "markdown",
   "id": "fd08e4a7",
   "metadata": {},
   "source": [
    "The pop() method removes the element at the specified index and returns it. If no index is specified, it removes and returns the last element in the list."
   ]
  },
  {
   "cell_type": "code",
   "execution_count": 42,
   "id": "2f859126",
   "metadata": {},
   "outputs": [
    {
     "data": {
      "text/plain": [
       "10"
      ]
     },
     "execution_count": 42,
     "metadata": {},
     "output_type": "execute_result"
    }
   ],
   "source": [
    "my_list.pop() #last element 10 removed and printed out"
   ]
  },
  {
   "cell_type": "code",
   "execution_count": 43,
   "id": "14bb99a5",
   "metadata": {},
   "outputs": [
    {
     "name": "stdout",
     "output_type": "stream",
     "text": [
      "5\n"
     ]
    }
   ],
   "source": [
    "poped_element=my_list.pop()\n",
    "print(poped_element)"
   ]
  },
  {
   "cell_type": "code",
   "execution_count": 37,
   "id": "e745a118",
   "metadata": {},
   "outputs": [
    {
     "data": {
      "text/plain": [
       "[0, 2, 3, 4]"
      ]
     },
     "execution_count": 37,
     "metadata": {},
     "output_type": "execute_result"
    }
   ],
   "source": [
    "my_list"
   ]
  },
  {
   "cell_type": "markdown",
   "id": "ddaa62a2",
   "metadata": {},
   "source": [
    "The del statement is used to delete an element or a slice from a list by specifying the index or slice to be removed"
   ]
  },
  {
   "cell_type": "code",
   "execution_count": 44,
   "id": "22656700",
   "metadata": {},
   "outputs": [
    {
     "name": "stdout",
     "output_type": "stream",
     "text": [
      "[1, 2, 4, 5]\n",
      "[1, 5]\n"
     ]
    }
   ],
   "source": [
    "my_list = [1, 2, 3, 4, 5]\n",
    "del my_list[2]  # Deletes the element at index 2\n",
    "print(my_list)  # Output: [1, 2, 4, 5]\n",
    "\n",
    "del my_list[1:3]  # Deletes elements from index 1 to 2 (not inclusive of index 3)\n",
    "print(my_list)  # Output: [1, 5]"
   ]
  },
  {
   "cell_type": "markdown",
   "id": "70f595e0",
   "metadata": {},
   "source": [
    "The remove() method removes the first occurrence of a specified value from the list. If the value is not found, it raises a ValueError."
   ]
  },
  {
   "cell_type": "code",
   "execution_count": 45,
   "id": "dc465416",
   "metadata": {},
   "outputs": [
    {
     "name": "stdout",
     "output_type": "stream",
     "text": [
      "[1, 2, 4, 5]\n"
     ]
    }
   ],
   "source": [
    "my_list1 = [1, 2, 3, 4, 5]\n",
    "my_list.remove(3)  # Removes the value 3 from the list\n",
    "print(my_list)  # Output: [1, 2, 4, 5]"
   ]
  },
  {
   "cell_type": "markdown",
   "id": "e7231962",
   "metadata": {},
   "source": [
    "Using List Comprehensions:"
   ]
  },
  {
   "cell_type": "code",
   "execution_count": 51,
   "id": "a4124f68",
   "metadata": {},
   "outputs": [
    {
     "name": "stdout",
     "output_type": "stream",
     "text": [
      "[1, 2, 4, 5]\n"
     ]
    }
   ],
   "source": [
    "my_list = [1, 2, 3, 4, 5]\n",
    "my_list = [x for x in my_list if x != 3]  # Removes all occurrences of 3\n",
    "print(my_list)  # Output: [1, 2, 4, 5]"
   ]
  },
  {
   "cell_type": "markdown",
   "id": "65ab25f3",
   "metadata": {},
   "source": [
    "Using the filter() Function:"
   ]
  },
  {
   "cell_type": "code",
   "execution_count": 61,
   "id": "125e9464",
   "metadata": {},
   "outputs": [
    {
     "name": "stdout",
     "output_type": "stream",
     "text": [
      "[1, 2, 4, 5]\n"
     ]
    }
   ],
   "source": [
    "my_list = [1, 2, 3, 4, 5]\n",
    "\n",
    "# Use filter() to remove all occurrences of 3 from my_list\n",
    "my_list = list(filter(lambda x: x != 3, my_list))\n",
    "\n",
    "# Print the modified list\n",
    "print(my_list)  # Output: [1, 2, 4, 5]"
   ]
  },
  {
   "cell_type": "markdown",
   "id": "d9329f3e",
   "metadata": {},
   "source": [
    "### List Operations:"
   ]
  },
  {
   "cell_type": "code",
   "execution_count": 112,
   "id": "adc61ae7",
   "metadata": {},
   "outputs": [],
   "source": [
    "a = [1, 2, 3]\n",
    "b = [4, 5, 6]\n",
    "c = a + b"
   ]
  },
  {
   "cell_type": "code",
   "execution_count": 113,
   "id": "9a315996",
   "metadata": {},
   "outputs": [
    {
     "name": "stdout",
     "output_type": "stream",
     "text": [
      "[1, 2, 3, 4, 5, 6]\n"
     ]
    }
   ],
   "source": [
    "print(c)"
   ]
  },
  {
   "cell_type": "code",
   "execution_count": 115,
   "id": "ba8963ba",
   "metadata": {},
   "outputs": [
    {
     "data": {
      "text/plain": [
       "[1, 2, 3, 1, 2, 3, 1, 2, 3]"
      ]
     },
     "execution_count": 115,
     "metadata": {},
     "output_type": "execute_result"
    }
   ],
   "source": [
    "d=a*3 #appended\n",
    "d"
   ]
  },
  {
   "cell_type": "code",
   "execution_count": 116,
   "id": "96341ed0",
   "metadata": {},
   "outputs": [
    {
     "name": "stdout",
     "output_type": "stream",
     "text": [
      "True\n"
     ]
    }
   ],
   "source": [
    "print(2 in a)"
   ]
  },
  {
   "cell_type": "code",
   "execution_count": 117,
   "id": "ff5f2c0d",
   "metadata": {},
   "outputs": [
    {
     "name": "stdout",
     "output_type": "stream",
     "text": [
      "9\n"
     ]
    }
   ],
   "source": [
    "print(len(d))"
   ]
  },
  {
   "cell_type": "code",
   "execution_count": null,
   "id": "175abb53",
   "metadata": {},
   "outputs": [],
   "source": []
  }
 ],
 "metadata": {
  "kernelspec": {
   "display_name": "Python 3 (ipykernel)",
   "language": "python",
   "name": "python3"
  },
  "language_info": {
   "codemirror_mode": {
    "name": "ipython",
    "version": 3
   },
   "file_extension": ".py",
   "mimetype": "text/x-python",
   "name": "python",
   "nbconvert_exporter": "python",
   "pygments_lexer": "ipython3",
   "version": "3.11.5"
  }
 },
 "nbformat": 4,
 "nbformat_minor": 5
}
